{
 "cells": [
  {
   "cell_type": "code",
   "execution_count": 7,
   "metadata": {
    "collapsed": false
   },
   "outputs": [
    {
     "name": "stdout",
     "output_type": "stream",
     "text": [
      "           feature1      feature2      feature3      feature4      feature5  \\\n",
      "count  96320.000000  96320.000000  96320.000000  96320.000000  96320.000000   \n",
      "mean       0.499267      0.510870      0.505381      0.495577      0.498729   \n",
      "std        0.298828      0.300054      0.292332      0.282837      0.295686   \n",
      "min        0.000000      0.000006      0.000000      0.000000      0.000000   \n",
      "25%        0.229475      0.247976      0.257578      0.252352      0.235475   \n",
      "50%        0.499284      0.502067      0.506960      0.493423      0.500782   \n",
      "75%        0.754282      0.784585      0.756613      0.734211      0.758530   \n",
      "max        1.000000      1.000000      1.000000      1.000000      1.000000   \n",
      "\n",
      "           feature6      feature7      feature8      feature9     feature10  \\\n",
      "count  96320.000000  96320.000000  96320.000000  96320.000000  96320.000000   \n",
      "mean       0.498636      0.501169      0.511293      0.482439      0.485542   \n",
      "std        0.293331      0.289083      0.294251      0.291462      0.295634   \n",
      "min        0.000191      0.000000      0.000000      0.000076      0.000157   \n",
      "25%        0.253352      0.259109      0.252076      0.232631      0.225274   \n",
      "50%        0.500063      0.493395      0.503746      0.469295      0.473827   \n",
      "75%        0.754915      0.761766      0.777905      0.738110      0.755406   \n",
      "max        1.000000      1.000000      1.000000      1.000000      1.000000   \n",
      "\n",
      "           ...          feature13     feature14     feature15     feature16  \\\n",
      "count      ...       96320.000000  96320.000000  96320.000000  96320.000000   \n",
      "mean       ...           0.498358      0.485213      0.506488      0.499097   \n",
      "std        ...           0.292344      0.288844      0.295697      0.284427   \n",
      "min        ...           0.000000      0.000869      0.000000      0.000000   \n",
      "25%        ...           0.240802      0.240383      0.244969      0.260134   \n",
      "50%        ...           0.500036      0.482828      0.514579      0.510162   \n",
      "75%        ...           0.748607      0.734963      0.761702      0.745460   \n",
      "max        ...           1.000000      1.000000      1.000000      1.000000   \n",
      "\n",
      "          feature17     feature18     feature19     feature20     feature21  \\\n",
      "count  96320.000000  96320.000000  96320.000000  96320.000000  96320.000000   \n",
      "mean       0.490538      0.497247      0.495801      0.489411      0.509885   \n",
      "std        0.287718      0.284438      0.289741      0.286045      0.284850   \n",
      "min        0.000162      0.000000      0.000000      0.000003      0.000000   \n",
      "25%        0.244734      0.261112      0.233360      0.252535      0.268794   \n",
      "50%        0.490983      0.504632      0.500993      0.469587      0.515547   \n",
      "75%        0.746915      0.740331      0.746194      0.735371      0.758363   \n",
      "max        1.000000      1.000000      1.000000      1.000000      1.000000   \n",
      "\n",
      "             target  \n",
      "count  96320.000000  \n",
      "mean       0.505170  \n",
      "std        0.499976  \n",
      "min        0.000000  \n",
      "25%        0.000000  \n",
      "50%        1.000000  \n",
      "75%        1.000000  \n",
      "max        1.000000  \n",
      "\n",
      "[8 rows x 22 columns]\n"
     ]
    }
   ],
   "source": [
    "import numpy as np\n",
    "import matplotlib.pyplot as plt\n",
    "import png\n",
    "import os\n",
    "import random\n",
    "import pandas as pd\n",
    "from sklearn.metrics import classification_report\n",
    "import matplotlib\n",
    "\n",
    "# matplotlib.use('Agg')\n",
    "%matplotlib inline\n",
    "import matplotlib.pyplot as plt\n",
    "plt.close('all')\n",
    "\n",
    "dataBasePath = '/home/dev/data/numer.ai/'\n",
    "csvfilename = dataBasePath + 'numerai_training_data.csv'\n",
    "\n",
    "# data = np.loadtxt(csvfilename, skiprows=1, usecols=range(0, 22), delimiter=',', dtype='f8')\n",
    "# df = pd.DataFrame(data)\n",
    "df = pd.read_csv(csvfilename)\n",
    "maxrows = 150000\n",
    "\n",
    "#print(df.head())\n",
    "def summaryInfo(data):\n",
    "#     for column in data:\n",
    "#         plt.figure(figsize=(20,4))\n",
    "#         plt.suptitle(column)\n",
    "#         plt.hist(data[column], bins=30, range=[0,1]);\n",
    "#         plt.savefig(column+ '.png')\n",
    "    print(data.describe())    \n",
    "summaryInfo(df)  \n",
    "\n",
    "# plt.plot(df.iloc[1000:1100,1], 'r-')\n",
    "\n",
    "# features = df.values[:,0:21]\n",
    "# labels = df.values[:,21]\n",
    "\n",
    "# print(features[0])\n",
    "# print(labels[0])\n",
    "\n",
    "# print(np.shape(features))\n",
    "\n",
    "# features = np.reshape(features, [-1, 21, 1])\n",
    "\n",
    "# print(np.shape(features))\n",
    "\n",
    "# np.save(dataBasePath + 'features-2016-09-04.npy', features)\n",
    "\n",
    "# std = np.std(features, dtype=np.float64)\n",
    "# mean = np.mean(features, dtype=np.float64)\n",
    "# print ('features: Std=' + str(std), 'Mean=' + str(mean))\n",
    "\n",
    "# # np.save(dataBasePath + 'labels-2016-09-04.npy', labels)"
   ]
  },
  {
   "cell_type": "code",
   "execution_count": null,
   "metadata": {
    "collapsed": true
   },
   "outputs": [],
   "source": [
    "# Assume time series\n"
   ]
  },
  {
   "cell_type": "code",
   "execution_count": null,
   "metadata": {
    "collapsed": true
   },
   "outputs": [],
   "source": []
  }
 ],
 "metadata": {
  "kernelspec": {
   "display_name": "Python 2",
   "language": "python",
   "name": "python2"
  },
  "language_info": {
   "codemirror_mode": {
    "name": "ipython",
    "version": 2
   },
   "file_extension": ".py",
   "mimetype": "text/x-python",
   "name": "python",
   "nbconvert_exporter": "python",
   "pygments_lexer": "ipython2",
   "version": "2.7.6"
  }
 },
 "nbformat": 4,
 "nbformat_minor": 1
}
